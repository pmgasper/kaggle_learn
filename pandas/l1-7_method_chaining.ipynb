{
 "cells": [
  {
   "cell_type": "markdown",
   "metadata": {},
   "source": [
    "# Kaggle Learn - Pandas\n",
    "\n",
    "Working through lessons from https://www.kaggle.com/learn/pandas\n",
    "\n",
    "## Level 7: Method Chaining"
   ]
  },
  {
   "cell_type": "code",
   "execution_count": 2,
   "metadata": {},
   "outputs": [],
   "source": [
    "import matplotlib.pyplot as plt\n",
    "import pandas as pd\n",
    "\n",
    "pd.set_option('max_rows', 7)"
   ]
  },
  {
   "cell_type": "markdown",
   "metadata": {},
   "source": [
    "### Method Chaining\n",
    "\n",
    "Method chaining is a methodology for performing operations on a `DataFrame` or `Series` that emphasizes continuity.\n",
    "* involves performing a series of operations on the origional data frame\n",
    "  separate steps can be on separate lines, with the entire chain enclosed in paranthese\n",
    "* avoids temporary variables that require tracking and memory\n",
    "* debuging can be done by commenting out lines that are not working\n",
    "* more at https://tomaugspurger.github.io/method-chaining.html"
   ]
  },
  {
   "cell_type": "code",
   "execution_count": 3,
   "metadata": {},
   "outputs": [],
   "source": [
    "# Read csv\n",
    "ramen = pd.read_csv('data/ramen-ratings.csv', index_col=0)"
   ]
  },
  {
   "cell_type": "code",
   "execution_count": 4,
   "metadata": {},
   "outputs": [
    {
     "data": {
      "text/plain": [
       "Review #\n",
       "2580    3.75\n",
       "2579    1.00\n",
       "2578    2.25\n",
       "2577    2.75\n",
       "2576    3.75\n",
       "Name: Stars, dtype: float64"
      ]
     },
     "execution_count": 4,
     "metadata": {},
     "output_type": "execute_result"
    }
   ],
   "source": [
    "# Simple method chaining example\n",
    "(ramen['Stars']\n",
    "     .replace('Unrated', None)\n",
    "     .dropna()\n",
    "     .astype('float64')\n",
    "     .head())"
   ]
  },
  {
   "cell_type": "markdown",
   "metadata": {},
   "source": [
    "### Assign and pipe\n",
    "\n",
    "**df.assign** \n",
    "* inline creation or modification of columns\n",
    "* cannot modifty columns with reserved characters\n",
    "\n",
    "**df.pipe**\n",
    "* apply a function to the dataframe\n",
    "* returned value replaces dataframe (basically an inline, inplace method?)\n",
    "* not frequently needed, but really useful when it is"
   ]
  },
  {
   "cell_type": "code",
   "execution_count": 5,
   "metadata": {},
   "outputs": [],
   "source": [
    "# Read csv\n",
    "wine = pd.read_csv('data/winemag-data-130k-v2.csv', index_col=0)"
   ]
  },
  {
   "cell_type": "code",
   "execution_count": 13,
   "metadata": {},
   "outputs": [],
   "source": [
    "# Assign method\n",
    "wine.assign(\n",
    "     region_1 =  wine.apply(lambda srs: srs.region_1 if pd.notnull(srs.region_1) else srs.province, \n",
    "                            axis='columns'))\n",
    "\n",
    "# Equivalent without using .assign\n",
    "wine.region_1 = (wine.apply(lambda srs: srs.region_1 if pd.notnull(srs.region_1) else srs.province, \n",
    "                            axis='columns'))"
   ]
  },
  {
   "cell_type": "code",
   "execution_count": 14,
   "metadata": {},
   "outputs": [],
   "source": [
    "# Pipe\n",
    "def name_index(df):\n",
    "    df.index.name = 'review_id'\n",
    "    return df\n",
    "wine.pipe(name_index)\n",
    "\n",
    "# Equivalent \n",
    "wine.rename_axis('num', axis='rows', inplace=True)"
   ]
  },
  {
   "cell_type": "code",
   "execution_count": 17,
   "metadata": {},
   "outputs": [],
   "source": [
    "# Read csv\n",
    "chess_games = pd.read_csv('data/games.csv', index_col=0)"
   ]
  },
  {
   "cell_type": "code",
   "execution_count": 19,
   "metadata": {},
   "outputs": [
    {
     "name": "stdout",
     "output_type": "stream",
     "text": [
      "white    0.498604\n",
      "black    0.454033\n",
      "draw     0.047363\n",
      "Name: winner, dtype: float64\n",
      "\n",
      "winner\n",
      "black    0.454033\n",
      "draw     0.047363\n",
      "white    0.498604\n",
      "Name: winner, dtype: float64\n"
     ]
    }
   ],
   "source": [
    "# Keep it simple \n",
    "#   remember .value_counts() is essentially a shortcut for groupby then count\n",
    "#            array math doesn't require map or apply\n",
    "print(chess_games['winner'].value_counts() / len(chess_games))\n",
    "print()\n",
    "\n",
    "# Longer version\n",
    "white_adv = (chess_games\n",
    "     .groupby('winner')\n",
    "     .winner.count()\n",
    "     .map(lambda srs: srs / len(chess_games)))\n",
    "print(white_adv)"
   ]
  },
  {
   "cell_type": "code",
   "execution_count": 21,
   "metadata": {},
   "outputs": [
    {
     "name": "stdout",
     "output_type": "stream",
     "text": [
      "Sicilian Defense     2632\n",
      "French Defense       1412\n",
      "Queen's Pawn Game    1233\n",
      "                     ... \n",
      "Valencia Opening        1\n",
      "Global Opening          1\n",
      "Doery Defense           1\n",
      "Name: opening_name, Length: 143, dtype: int64\n"
     ]
    }
   ],
   "source": [
    "# map with string manipuation\n",
    "opening = (chess_games\n",
    "     .opening_name\n",
    "     .map(lambda n: n.split(\":\")[0].split(\"|\")[0].split(\"#\")[0].strip())\n",
    "     .value_counts()\n",
    ")\n",
    "\n",
    "print(opening)"
   ]
  },
  {
   "cell_type": "code",
   "execution_count": 45,
   "metadata": {},
   "outputs": [
    {
     "data": {
      "text/plain": [
       "white_id     victory_status\n",
       "taranga      mate              30\n",
       "             resign            30\n",
       "1240100948   resign            28\n",
       "                               ..\n",
       "mustafa888   mate               1\n",
       "mustafa1999  mate               1\n",
       "--jim--      mate               1\n",
       "Name: n, Length: 11489, dtype: int64"
      ]
     },
     "metadata": {},
     "output_type": "display_data"
    },
    {
     "data": {
      "image/png": "[encoded data removed]",
      "text/plain": [
       "<matplotlib.figure.Figure at 0x7fee43e4b828>"
      ]
     },
     "metadata": {},
     "output_type": "display_data"
    }
   ],
   "source": [
    "# counting multiIndex groups \n",
    "white_outcomes = (chess_games\n",
    "    .assign(n=0)\n",
    "    .groupby(['white_id', 'victory_status'])\n",
    "    .n\n",
    "    .count()   # Answer key used .apply(len)\n",
    "    .sort_values(ascending=False)\n",
    ")\n",
    "display(white_outcomes)\n",
    "white_outcomes.head(30).plot.bar()\n",
    "plt.show()"
   ]
  },
  {
   "cell_type": "code",
   "execution_count": 41,
   "metadata": {},
   "outputs": [
    {
     "data": {
      "text/plain": [
       "white_id    victory_status\n",
       "taranga     resign            30\n",
       "            mate              30\n",
       "1240100948  resign            28\n",
       "                              ..\n",
       "ivanbus     draw               1\n",
       "islam01     draw               1\n",
       "ivanbus     outoftime          1\n",
       "Name: n, Length: 72, dtype: int64"
      ]
     },
     "metadata": {},
     "output_type": "display_data"
    },
    {
     "data": {
      "image/png": "[encoded data removed]",
      "text/plain": [
       "<matplotlib.figure.Figure at 0x7fee441692b0>"
      ]
     },
     "metadata": {},
     "output_type": "display_data"
    }
   ],
   "source": [
    "# counting multiIndex groups - not including infrequent individuals \n",
    "# first answer \n",
    "#   not using pipe (only works if selection of top 20 users is done first) \n",
    "top_white_outcomes = (chess_games\n",
    "  .loc[\n",
    "    (chess_games\n",
    "       .white_id\n",
    "       .isin(\n",
    "         chess_games\n",
    "         .white_id\n",
    "         .value_counts()\n",
    "         .head(20)\n",
    "         .index))]\n",
    "   .assign(n=0)\n",
    "   .groupby(['white_id', 'victory_status'])\n",
    "   .n\n",
    "   .count()\n",
    "   .sort_values(ascending=False)\n",
    "   #.reset_index()\n",
    ")\n",
    "display(top_white_outcomes)\n",
    "top_white_outcomes.head(30).plot.bar()\n",
    "plt.show()"
   ]
  },
  {
   "cell_type": "code",
   "execution_count": 34,
   "metadata": {},
   "outputs": [
    {
     "data": {
      "text/html": [
       "<div>\n",
       "<style scoped>\n",
       "    .dataframe tbody tr th:only-of-type {\n",
       "        vertical-align: middle;\n",
       "    }\n",
       "\n",
       "    .dataframe tbody tr th {\n",
       "        vertical-align: top;\n",
       "    }\n",
       "\n",
       "    .dataframe thead th {\n",
       "        text-align: right;\n",
       "    }\n",
       "</style>\n",
       "<table border=\"1\" class=\"dataframe\">\n",
       "  <thead>\n",
       "    <tr style=\"text-align: right;\">\n",
       "      <th></th>\n",
       "      <th>white_id</th>\n",
       "      <th>victory_status</th>\n",
       "      <th>n</th>\n",
       "    </tr>\n",
       "  </thead>\n",
       "  <tbody>\n",
       "    <tr>\n",
       "      <th>0</th>\n",
       "      <td>1240100948</td>\n",
       "      <td>draw</td>\n",
       "      <td>3</td>\n",
       "    </tr>\n",
       "    <tr>\n",
       "      <th>1</th>\n",
       "      <td>1240100948</td>\n",
       "      <td>mate</td>\n",
       "      <td>7</td>\n",
       "    </tr>\n",
       "    <tr>\n",
       "      <th>2</th>\n",
       "      <td>1240100948</td>\n",
       "      <td>resign</td>\n",
       "      <td>28</td>\n",
       "    </tr>\n",
       "    <tr>\n",
       "      <th>...</th>\n",
       "      <td>...</td>\n",
       "      <td>...</td>\n",
       "      <td>...</td>\n",
       "    </tr>\n",
       "    <tr>\n",
       "      <th>69</th>\n",
       "      <td>vovkakuz</td>\n",
       "      <td>mate</td>\n",
       "      <td>6</td>\n",
       "    </tr>\n",
       "    <tr>\n",
       "      <th>70</th>\n",
       "      <td>vovkakuz</td>\n",
       "      <td>outoftime</td>\n",
       "      <td>4</td>\n",
       "    </tr>\n",
       "    <tr>\n",
       "      <th>71</th>\n",
       "      <td>vovkakuz</td>\n",
       "      <td>resign</td>\n",
       "      <td>23</td>\n",
       "    </tr>\n",
       "  </tbody>\n",
       "</table>\n",
       "<p>72 rows × 3 columns</p>\n",
       "</div>"
      ],
      "text/plain": [
       "      white_id victory_status   n\n",
       "0   1240100948           draw   3\n",
       "1   1240100948           mate   7\n",
       "2   1240100948         resign  28\n",
       "..         ...            ...  ..\n",
       "69    vovkakuz           mate   6\n",
       "70    vovkakuz      outoftime   4\n",
       "71    vovkakuz         resign  23\n",
       "\n",
       "[72 rows x 3 columns]"
      ]
     },
     "execution_count": 34,
     "metadata": {},
     "output_type": "execute_result"
    }
   ],
   "source": [
    "# counting multiIndex groups - not including infrequent individuals \n",
    "# second answer\n",
    "#   using pipe apply filter to table (could be done before or after count)\n",
    "\n",
    "top_white_outcomes = (chess_games\n",
    "   .pipe(lambda df: df.loc[df.white_id.isin(chess_games\n",
    "                             .white_id\n",
    "                             .value_counts()\n",
    "                             .head(20)\n",
    "                             .index)])\n",
    "   .assign(n=0)\n",
    "   .groupby(['white_id', 'victory_status'])\n",
    "   .n\n",
    "   .count()\n",
    "   .reset_index()   \n",
    "   )\n",
    "\n",
    "top_white_outcomes"
   ]
  },
  {
   "cell_type": "code",
   "execution_count": 28,
   "metadata": {},
   "outputs": [
    {
     "data": {
      "text/html": [
       "<div>\n",
       "<style scoped>\n",
       "    .dataframe tbody tr th:only-of-type {\n",
       "        vertical-align: middle;\n",
       "    }\n",
       "\n",
       "    .dataframe tbody tr th {\n",
       "        vertical-align: top;\n",
       "    }\n",
       "\n",
       "    .dataframe thead th {\n",
       "        text-align: right;\n",
       "    }\n",
       "</style>\n",
       "<table border=\"1\" class=\"dataframe\">\n",
       "  <thead>\n",
       "    <tr style=\"text-align: right;\">\n",
       "      <th></th>\n",
       "      <th>white_id</th>\n",
       "      <th>victory_status</th>\n",
       "      <th>n</th>\n",
       "    </tr>\n",
       "  </thead>\n",
       "  <tbody>\n",
       "    <tr>\n",
       "      <th>9</th>\n",
       "      <td>1240100948</td>\n",
       "      <td>draw</td>\n",
       "      <td>3</td>\n",
       "    </tr>\n",
       "    <tr>\n",
       "      <th>10</th>\n",
       "      <td>1240100948</td>\n",
       "      <td>mate</td>\n",
       "      <td>7</td>\n",
       "    </tr>\n",
       "    <tr>\n",
       "      <th>11</th>\n",
       "      <td>1240100948</td>\n",
       "      <td>resign</td>\n",
       "      <td>28</td>\n",
       "    </tr>\n",
       "    <tr>\n",
       "      <th>...</th>\n",
       "      <td>...</td>\n",
       "      <td>...</td>\n",
       "      <td>...</td>\n",
       "    </tr>\n",
       "    <tr>\n",
       "      <th>10906</th>\n",
       "      <td>vovkakuz</td>\n",
       "      <td>mate</td>\n",
       "      <td>6</td>\n",
       "    </tr>\n",
       "    <tr>\n",
       "      <th>10907</th>\n",
       "      <td>vovkakuz</td>\n",
       "      <td>outoftime</td>\n",
       "      <td>4</td>\n",
       "    </tr>\n",
       "    <tr>\n",
       "      <th>10908</th>\n",
       "      <td>vovkakuz</td>\n",
       "      <td>resign</td>\n",
       "      <td>23</td>\n",
       "    </tr>\n",
       "  </tbody>\n",
       "</table>\n",
       "<p>72 rows × 3 columns</p>\n",
       "</div>"
      ],
      "text/plain": [
       "         white_id victory_status   n\n",
       "9      1240100948           draw   3\n",
       "10     1240100948           mate   7\n",
       "11     1240100948         resign  28\n",
       "...           ...            ...  ..\n",
       "10906    vovkakuz           mate   6\n",
       "10907    vovkakuz      outoftime   4\n",
       "10908    vovkakuz         resign  23\n",
       "\n",
       "[72 rows x 3 columns]"
      ]
     },
     "execution_count": 28,
     "metadata": {},
     "output_type": "execute_result"
    }
   ],
   "source": [
    "# counting multiIndex groups - not including infrequent individuals \n",
    "# provided answer\n",
    "(chess_games\n",
    "    .assign(n=0)\n",
    "    .groupby(['white_id', 'victory_status'])\n",
    "    .n\n",
    "    .apply(len)\n",
    "    .reset_index()\n",
    "    .pipe(lambda df: df.loc[df.white_id.isin(chess_games.white_id.value_counts().head(20).index)]) \n",
    ")"
   ]
  },
  {
   "cell_type": "code",
   "execution_count": 49,
   "metadata": {},
   "outputs": [
    {
     "data": {
      "image/png": "[encoded data removed]",
      "text/plain": [
       "<matplotlib.figure.Figure at 0x7fee43e23978>"
      ]
     },
     "metadata": {},
     "output_type": "display_data"
    }
   ],
   "source": [
    "# counting multiIndex groups\n",
    "kepler = pd.read_csv(\"data/cumulative.csv\")\n",
    "kepler\n",
    "\n",
    "kepler_disp_change = (kepler\n",
    "   .assign(n=0)\n",
    "   .groupby(['koi_pdisposition', 'koi_disposition'])\n",
    "   .n\n",
    "   .count()\n",
    ")\n",
    "kepler_disp_change.plot.bar()\n",
    "plt.show()"
   ]
  },
  {
   "cell_type": "code",
   "execution_count": 70,
   "metadata": {},
   "outputs": [
    {
     "data": {
      "text/plain": [
       "Wine Ratings\n",
       "0.00     397\n",
       "0.25     692\n",
       "0.50    1836\n",
       "        ... \n",
       "4.50      77\n",
       "4.75      33\n",
       "5.00      19\n",
       "Name: points, Length: 21, dtype: int64"
      ]
     },
     "metadata": {},
     "output_type": "display_data"
    },
    {
     "data": {
      "image/png": "[encoded data removed]",
      "text/plain": [
       "<matplotlib.figure.Figure at 0x7fee43a5ef98>"
      ]
     },
     "metadata": {},
     "output_type": "display_data"
    }
   ],
   "source": [
    "# normalize, count, sort, rename series\n",
    "stars = (wine\n",
    "         .points\n",
    "         .dropna()\n",
    "         .map(lambda x: (x - 80) / 20 * 5)\n",
    "         .value_counts()\n",
    "         .sort_index()\n",
    "         .rename_axis('Wine Ratings'))\n",
    "display(stars)\n",
    "stars.plot.bar()\n",
    "plt.show()\n",
    "    "
   ]
  },
  {
   "cell_type": "code",
   "execution_count": 94,
   "metadata": {},
   "outputs": [
    {
     "data": {
      "text/plain": [
       "Ramen Ratings\n",
       "0.0     38\n",
       "0.5     16\n",
       "1.0     38\n",
       "      ... \n",
       "4.0    542\n",
       "4.5    199\n",
       "5.0    386\n",
       "Name: Stars, Length: 11, dtype: int64"
      ]
     },
     "metadata": {},
     "output_type": "display_data"
    },
    {
     "data": {
      "image/png": "[encoded data removed]",
      "text/plain": [
       "<matplotlib.figure.Figure at 0x7fee45aed518>"
      ]
     },
     "metadata": {},
     "output_type": "display_data"
    }
   ],
   "source": [
    "# clean, normalize, round to 0.5, count, sort, rename\n",
    "#   see cells below for round to 0.5 method comparison\n",
    "\n",
    "ratings = (ramen\n",
    "     .drop(ramen.loc[ramen.Stars == 'Unrated'].index)\n",
    "     #.replace('Unrated', None)  # Alternative drop na\n",
    "     #.dropna()\n",
    "     .Stars\n",
    "     .astype('float64')\n",
    "     #.map(lambda x: round(x * 2) / 2)   # See cells below\n",
    "     #.map(lambda x: (int((x * 2) + 0.50) / 2.0))   # See cells below\n",
    "     .map(lambda v: int(v) if v - int(v) < 0.5 else int(v) + 0.5) \n",
    "     .value_counts()\n",
    "     .sort_index()\n",
    "     .rename_axis('Ramen Ratings')\n",
    ")\n",
    "display(ratings)\n",
    "\n",
    "ratings.plot.bar()\n",
    "plt.show()\n"
   ]
  },
  {
   "cell_type": "code",
   "execution_count": 96,
   "metadata": {},
   "outputs": [
    {
     "data": {
      "text/plain": [
       "Ramen Ratings\n",
       "0.0     27\n",
       "0.5     25\n",
       "1.0     30\n",
       "      ... \n",
       "4.0    748\n",
       "4.5    282\n",
       "5.0    450\n",
       "Name: Stars, Length: 11, dtype: int64"
      ]
     },
     "metadata": {},
     "output_type": "display_data"
    },
    {
     "data": {
      "image/png": "[encoded data removed]",
      "text/plain": [
       "<matplotlib.figure.Figure at 0x7fee4596e9e8>"
      ]
     },
     "metadata": {},
     "output_type": "display_data"
    }
   ],
   "source": [
    "# rounding 0.25 and 0.75 up, instead of down\n",
    "#  makes a difference here, also see next cell\n",
    "ratings = (ramen\n",
    "     .drop(ramen.loc[ramen.Stars == 'Unrated'].index)\n",
    "     #.replace('Unrated', None)  # Alternative drop na\n",
    "     #.dropna()\n",
    "     .Stars\n",
    "     .astype('float64')\n",
    "     #.map(lambda x: round(x * 2) / 2)   # See cell below\n",
    "     .map(lambda x: (int((x * 2) + 0.50) / 2.0))\n",
    "     #.map(lambda v: int(v) if v - int(v) < 0.5 else int(v) + 0.5) \n",
    "     .value_counts()\n",
    "     .sort_index()\n",
    "     .rename_axis('Ramen Ratings')\n",
    ")\n",
    "display(ratings)\n",
    "\n",
    "ratings.plot.bar()\n",
    "plt.show()\n"
   ]
  },
  {
   "cell_type": "code",
   "execution_count": 91,
   "metadata": {},
   "outputs": [
    {
     "data": {
      "text/html": [
       "<div>\n",
       "<style scoped>\n",
       "    .dataframe tbody tr th:only-of-type {\n",
       "        vertical-align: middle;\n",
       "    }\n",
       "\n",
       "    .dataframe tbody tr th {\n",
       "        vertical-align: top;\n",
       "    }\n",
       "\n",
       "    .dataframe thead th {\n",
       "        text-align: right;\n",
       "    }\n",
       "</style>\n",
       "<table border=\"1\" class=\"dataframe\">\n",
       "  <thead>\n",
       "    <tr style=\"text-align: right;\">\n",
       "      <th></th>\n",
       "      <th>method_1</th>\n",
       "      <th>method_2</th>\n",
       "      <th>method_3</th>\n",
       "    </tr>\n",
       "  </thead>\n",
       "  <tbody>\n",
       "    <tr>\n",
       "      <th>1.00</th>\n",
       "      <td>1.0</td>\n",
       "      <td>1.0</td>\n",
       "      <td>1.0</td>\n",
       "    </tr>\n",
       "    <tr>\n",
       "      <th>1.25</th>\n",
       "      <td>1.0</td>\n",
       "      <td>1.5</td>\n",
       "      <td>1.0</td>\n",
       "    </tr>\n",
       "    <tr>\n",
       "      <th>1.50</th>\n",
       "      <td>1.5</td>\n",
       "      <td>1.5</td>\n",
       "      <td>1.5</td>\n",
       "    </tr>\n",
       "    <tr>\n",
       "      <th>1.75</th>\n",
       "      <td>2.0</td>\n",
       "      <td>2.0</td>\n",
       "      <td>1.5</td>\n",
       "    </tr>\n",
       "    <tr>\n",
       "      <th>2.00</th>\n",
       "      <td>2.0</td>\n",
       "      <td>2.0</td>\n",
       "      <td>2.0</td>\n",
       "    </tr>\n",
       "    <tr>\n",
       "      <th>2.25</th>\n",
       "      <td>2.0</td>\n",
       "      <td>2.5</td>\n",
       "      <td>2.0</td>\n",
       "    </tr>\n",
       "    <tr>\n",
       "      <th>2.50</th>\n",
       "      <td>2.5</td>\n",
       "      <td>2.5</td>\n",
       "      <td>2.5</td>\n",
       "    </tr>\n",
       "    <tr>\n",
       "      <th>2.75</th>\n",
       "      <td>3.0</td>\n",
       "      <td>3.0</td>\n",
       "      <td>2.5</td>\n",
       "    </tr>\n",
       "    <tr>\n",
       "      <th>3.00</th>\n",
       "      <td>3.0</td>\n",
       "      <td>3.0</td>\n",
       "      <td>3.0</td>\n",
       "    </tr>\n",
       "  </tbody>\n",
       "</table>\n",
       "</div>"
      ],
      "text/plain": [
       "      method_1  method_2  method_3\n",
       "1.00       1.0       1.0       1.0\n",
       "1.25       1.0       1.5       1.0\n",
       "1.50       1.5       1.5       1.5\n",
       "1.75       2.0       2.0       1.5\n",
       "2.00       2.0       2.0       2.0\n",
       "2.25       2.0       2.5       2.0\n",
       "2.50       2.5       2.5       2.5\n",
       "2.75       3.0       3.0       2.5\n",
       "3.00       3.0       3.0       3.0"
      ]
     },
     "metadata": {},
     "output_type": "display_data"
    }
   ],
   "source": [
    "# Comparing rounding methods\n",
    "#   built in round performs 'Bankers rounding' - even .5 down, odd .5 up\n",
    "#                    nice for minimizing cumulative errors, but not here\n",
    "#   method_2 always rounds .25 and .75 up, where \n",
    "#   method_3 always rounds .25 and .75 down, ether could be valie here\n",
    "\n",
    "values = [1, 1.25, 1.5, 1.75, 2.0, 2.25, 2.5, 2.75, 3]\n",
    "method1 = []\n",
    "method2 = []\n",
    "method3 = []\n",
    "\n",
    "for value in values:\n",
    "    method1.append(round(value * 2) / 2)\n",
    "    method2.append(int((value * 2) + 0.50) / 2.0)\n",
    "    method3.append(int(value) if value - int(value) < 0.5 else int(value) + 0.5)\n",
    "    \n",
    "rounding = pd.DataFrame(\n",
    "             {'method_1': method1, \n",
    "              'method_2': method2, \n",
    "              'method_3': method3},\n",
    "               index=values)\n",
    "\n",
    "with pd.option_context('max_rows', 10):\n",
    "    display(rounding)"
   ]
  }
 ],
 "metadata": {
  "kernelspec": {
   "display_name": "Python 3",
   "language": "python",
   "name": "python3"
  },
  "language_info": {
   "codemirror_mode": {
    "name": "ipython",
    "version": 3
   },
   "file_extension": ".py",
   "mimetype": "text/x-python",
   "name": "python",
   "nbconvert_exporter": "python",
   "pygments_lexer": "ipython3",
   "version": "3.6.3"
  }
 },
 "nbformat": 4,
 "nbformat_minor": 2
}
